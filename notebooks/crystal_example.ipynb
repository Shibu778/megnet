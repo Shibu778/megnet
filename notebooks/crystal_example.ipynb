{
 "cells": [
  {
   "cell_type": "markdown",
   "metadata": {},
   "source": [
    "# Load data"
   ]
  },
  {
   "cell_type": "code",
   "execution_count": 1,
   "metadata": {},
   "outputs": [],
   "source": [
    "import numpy as np \n",
    "from monty.json import MontyDecoder\n",
    "from monty.serialization import loadfn\n",
    "\n",
    "data = loadfn('bulk_moduli.json')\n",
    "structures = data['structures']\n",
    "targets = np.log10(data['bulk_moduli'])"
   ]
  },
  {
   "cell_type": "markdown",
   "metadata": {},
   "source": [
    "# Set up model and train"
   ]
  },
  {
   "cell_type": "code",
   "execution_count": 3,
   "metadata": {},
   "outputs": [],
   "source": [
    "from megnet.data.crystal import CrystalGraph\n",
    "from megnet.data.graph import GaussianDistance\n",
    "from megnet.models import MEGNetModel\n",
    "\n",
    "model = MEGNetModel(10, 2, nblocks=1, lr=1e-2,\n",
    "                    n1=4, n2=4, n3=4, npass=1, ntarget=1,\n",
    "                    graph_converter=CrystalGraph(bond_converter=GaussianDistance(np.linspace(0, 5, 10), 0.5)))"
   ]
  },
  {
   "cell_type": "code",
   "execution_count": 4,
   "metadata": {},
   "outputs": [
    {
     "name": "stdout",
     "output_type": "stream",
     "text": [
      "Epoch 1/2\n",
      "1/1 [==============================] - 5s 5s/step - loss: 4.0360\n",
      "Epoch 2/2\n",
      "1/1 [==============================] - 0s 168ms/step - loss: 3.6460\n"
     ]
    },
    {
     "data": {
      "text/plain": [
       "<megnet.models.megnet.MEGNetModel at 0x7f34fc36a140>"
      ]
     },
     "execution_count": 4,
     "metadata": {},
     "output_type": "execute_result"
    }
   ],
   "source": [
    "model.train(structures, targets, epochs=2)"
   ]
  },
  {
   "cell_type": "markdown",
   "metadata": {},
   "source": [
    "# Prediction"
   ]
  },
  {
   "cell_type": "markdown",
   "metadata": {},
   "source": [
    "## Predict from structure"
   ]
  },
  {
   "cell_type": "code",
   "execution_count": 5,
   "metadata": {},
   "outputs": [
    {
     "name": "stderr",
     "output_type": "stream",
     "text": [
      "/home/shibuM/anaconda3/envs/megnet/lib/python3.10/site-packages/tqdm/auto.py:22: TqdmWarning: IProgress not found. Please update jupyter and ipywidgets. See https://ipywidgets.readthedocs.io/en/stable/user_install.html\n",
      "  from .autonotebook import tqdm as notebook_tqdm\n",
      "Retrieving MaterialsDoc documents: 100%|██████████| 1/1 [00:00<00:00, 5940.94it/s]\n"
     ]
    }
   ],
   "source": [
    "from mp_api.client import MPRester\n",
    "# mpr = MPRester()\n",
    "with MPRester() as mpr:\n",
    "\n",
    "# let's get some structure\n",
    "    structure = mpr.get_structure_by_material_id('mp-1143')"
   ]
  },
  {
   "cell_type": "code",
   "execution_count": 6,
   "metadata": {},
   "outputs": [
    {
     "name": "stdout",
     "output_type": "stream",
     "text": [
      "The predicted K for Al4 O6 is 1.5347446203231812 GPa\n"
     ]
    }
   ],
   "source": [
    "predicted_K = 10 ** model.predict_structure(structure).ravel()\n",
    "print('The predicted K for {} is {} GPa'.format(structure.formula, predicted_K[0]))"
   ]
  }
 ],
 "metadata": {
  "kernelspec": {
   "display_name": "Python 3",
   "language": "python",
   "name": "python3"
  },
  "language_info": {
   "codemirror_mode": {
    "name": "ipython",
    "version": 3
   },
   "file_extension": ".py",
   "mimetype": "text/x-python",
   "name": "python",
   "nbconvert_exporter": "python",
   "pygments_lexer": "ipython3",
   "version": "3.10.14"
  }
 },
 "nbformat": 4,
 "nbformat_minor": 2
}
