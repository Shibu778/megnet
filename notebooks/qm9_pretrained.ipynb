{
 "cells": [
  {
   "cell_type": "markdown",
   "metadata": {},
   "source": [
    "### Load QM9 model and predict"
   ]
  },
  {
   "cell_type": "code",
   "execution_count": 1,
   "metadata": {},
   "outputs": [
    {
     "name": "stderr",
     "output_type": "stream",
     "text": [
      "2024-04-22 06:21:52.248205: W tensorflow/stream_executor/platform/default/dso_loader.cc:64] Could not load dynamic library 'libcudart.so.11.0'; dlerror: libcudart.so.11.0: cannot open shared object file: No such file or directory; LD_LIBRARY_PATH: :/usr/local/cuda-11.0/lib64:/usr/local/cuda-11.0/lib64\n",
      "2024-04-22 06:21:52.248240: I tensorflow/stream_executor/cuda/cudart_stub.cc:29] Ignore above cudart dlerror if you do not have a GPU set up on your machine.\n"
     ]
    }
   ],
   "source": [
    "from megnet.models import MEGNetModel\n",
    "import numpy as np\n",
    "from operator import itemgetter\n",
    "import json\n",
    "\n",
    "def get_graph_from_doc(doc):\n",
    "    \"\"\"\n",
    "    Convert a json document into a megnet graph\n",
    "    \"\"\"\n",
    "    atom = [i['atomic_num'] for i in doc['atoms']]\n",
    "\n",
    "    index1_temp = [i['a_idx'] for i in doc['atom_pairs']]\n",
    "    index2_temp = [i['b_idx'] for i in doc['atom_pairs']]\n",
    "    bond_temp = [i['spatial_distance'] for i in doc['atom_pairs']]\n",
    "\n",
    "    index1 = index1_temp + index2_temp\n",
    "    index2 = index2_temp + index1_temp\n",
    "    bond = bond_temp + bond_temp\n",
    "    sort_key = np.argsort(index1)\n",
    "    it = itemgetter(*sort_key)\n",
    "\n",
    "    index1 = it(index1)\n",
    "    index2 = it(index2)\n",
    "    bond = it(bond)\n",
    "    graph = {'atom': atom, 'bond': bond, 'index1': index1, 'index2': index2, 'state': [[0, 0]]}\n",
    "    return graph\n",
    "    \n",
    "# load an example qm9 document\n",
    "with open('../megnet/data/tests/qm9/000001.json', 'r') as f:\n",
    "    doc = json.load(f)\n",
    "# convert to a graph\n",
    "graph = get_graph_from_doc(doc)"
   ]
  },
  {
   "cell_type": "code",
   "execution_count": 2,
   "metadata": {},
   "outputs": [
    {
     "name": "stdout",
     "output_type": "stream",
     "text": [
      "*** Result Comparisons ***\n",
      "Target\tMEGNet\tQM9\n"
     ]
    },
    {
     "name": "stderr",
     "output_type": "stream",
     "text": [
      "/home/shibuM/anaconda3/envs/megnet/lib/python3.10/site-packages/tqdm/auto.py:22: TqdmWarning: IProgress not found. Please update jupyter and ipywidgets. See https://ipywidgets.readthedocs.io/en/stable/user_install.html\n",
      "  from .autonotebook import tqdm as notebook_tqdm\n",
      "2024-04-22 06:22:02.222127: W tensorflow/stream_executor/platform/default/dso_loader.cc:64] Could not load dynamic library 'libcudart.so.11.0'; dlerror: libcudart.so.11.0: cannot open shared object file: No such file or directory; LD_LIBRARY_PATH: :/usr/local/cuda-11.0/lib64:/usr/local/cuda-11.0/lib64\n",
      "2024-04-22 06:22:02.222204: W tensorflow/stream_executor/platform/default/dso_loader.cc:64] Could not load dynamic library 'libcublas.so.11'; dlerror: libcublas.so.11: cannot open shared object file: No such file or directory; LD_LIBRARY_PATH: :/usr/local/cuda-11.0/lib64:/usr/local/cuda-11.0/lib64\n",
      "2024-04-22 06:22:02.222252: W tensorflow/stream_executor/platform/default/dso_loader.cc:64] Could not load dynamic library 'libcublasLt.so.11'; dlerror: libcublasLt.so.11: cannot open shared object file: No such file or directory; LD_LIBRARY_PATH: :/usr/local/cuda-11.0/lib64:/usr/local/cuda-11.0/lib64\n",
      "2024-04-22 06:22:02.222299: W tensorflow/stream_executor/platform/default/dso_loader.cc:64] Could not load dynamic library 'libcufft.so.10'; dlerror: libcufft.so.10: cannot open shared object file: No such file or directory; LD_LIBRARY_PATH: :/usr/local/cuda-11.0/lib64:/usr/local/cuda-11.0/lib64\n",
      "2024-04-22 06:22:02.222350: W tensorflow/stream_executor/platform/default/dso_loader.cc:64] Could not load dynamic library 'libcurand.so.10'; dlerror: libcurand.so.10: cannot open shared object file: No such file or directory; LD_LIBRARY_PATH: :/usr/local/cuda-11.0/lib64:/usr/local/cuda-11.0/lib64\n",
      "2024-04-22 06:22:02.222395: W tensorflow/stream_executor/platform/default/dso_loader.cc:64] Could not load dynamic library 'libcusolver.so.11'; dlerror: libcusolver.so.11: cannot open shared object file: No such file or directory; LD_LIBRARY_PATH: :/usr/local/cuda-11.0/lib64:/usr/local/cuda-11.0/lib64\n",
      "2024-04-22 06:22:02.222439: W tensorflow/stream_executor/platform/default/dso_loader.cc:64] Could not load dynamic library 'libcusparse.so.11'; dlerror: libcusparse.so.11: cannot open shared object file: No such file or directory; LD_LIBRARY_PATH: :/usr/local/cuda-11.0/lib64:/usr/local/cuda-11.0/lib64\n",
      "2024-04-22 06:22:02.222485: W tensorflow/stream_executor/platform/default/dso_loader.cc:64] Could not load dynamic library 'libcudnn.so.8'; dlerror: libcudnn.so.8: cannot open shared object file: No such file or directory; LD_LIBRARY_PATH: :/usr/local/cuda-11.0/lib64:/usr/local/cuda-11.0/lib64\n",
      "2024-04-22 06:22:02.222497: W tensorflow/core/common_runtime/gpu/gpu_device.cc:1850] Cannot dlopen some GPU libraries. Please make sure the missing libraries mentioned above are installed properly if you would like to use GPU. Follow the guide at https://www.tensorflow.org/install/gpu for how to download and setup the required libraries for your platform.\n",
      "Skipping registering GPU devices...\n",
      "2024-04-22 06:22:02.222743: I tensorflow/core/platform/cpu_feature_guard.cc:151] This TensorFlow binary is optimized with oneAPI Deep Neural Network Library (oneDNN) to use the following CPU instructions in performance-critical operations:  AVX2 AVX512F FMA\n",
      "To enable them in other operations, rebuild TensorFlow with the appropriate compiler flags.\n",
      "/tmp/ipykernel_267233/1214601215.py:16: DeprecationWarning: Conversion of an array with ndim > 0 to a scalar is deprecated, and will error in future. Ensure you extract a single element from your array before performing this operation. (Deprecated NumPy 1.25.)\n",
      "  print('%s\\t%.3f\\t%.3f' %(i, y_pred[-1], float(y_true[-1])))\n"
     ]
    },
    {
     "name": "stdout",
     "output_type": "stream",
     "text": [
      "mu\t-0.008\t0.000\n",
      "alpha\t13.127\t13.210\n",
      "HOMO\t-10.557\t-10.550\n",
      "LUMO\t3.241\t3.186\n",
      "WARNING:tensorflow:5 out of the last 5 calls to <function Model.make_predict_function.<locals>.predict_function at 0x7f11b87b1090> triggered tf.function retracing. Tracing is expensive and the excessive number of tracings could be due to (1) creating @tf.function repeatedly in a loop, (2) passing tensors with different shapes, (3) passing Python objects instead of tensors. For (1), please define your @tf.function outside of the loop. For (2), @tf.function has experimental_relax_shapes=True option that relaxes argument shapes that can avoid unnecessary retracing. For (3), please refer to https://www.tensorflow.org/guide/function#controlling_retracing and https://www.tensorflow.org/api_docs/python/tf/function for  more details.\n",
      "gap\t13.622\t13.736\n",
      "WARNING:tensorflow:6 out of the last 6 calls to <function Model.make_predict_function.<locals>.predict_function at 0x7f11f8063d90> triggered tf.function retracing. Tracing is expensive and the excessive number of tracings could be due to (1) creating @tf.function repeatedly in a loop, (2) passing tensors with different shapes, (3) passing Python objects instead of tensors. For (1), please define your @tf.function outside of the loop. For (2), @tf.function has experimental_relax_shapes=True option that relaxes argument shapes that can avoid unnecessary retracing. For (3), please refer to https://www.tensorflow.org/guide/function#controlling_retracing and https://www.tensorflow.org/api_docs/python/tf/function for  more details.\n",
      "R2\t35.975\t35.364\n",
      "ZPVE\t1.215\t1.218\n",
      "U0\t-17.166\t-17.172\n",
      "U\t-17.353\t-17.286\n",
      "H\t-17.420\t-17.389\n",
      "G\t-16.107\t-16.152\n",
      "Cv\t6.427\t6.469\n",
      "omega1\t3151.625\t3151.708\n"
     ]
    }
   ],
   "source": [
    "# all target names\n",
    "names = ['mu', 'alpha', 'HOMO', 'LUMO', 'gap', 'R2', 'ZPVE', 'U0', 'U', 'H', 'G', 'Cv', 'omega1']\n",
    "\n",
    "\n",
    "y_pred = []\n",
    "y_true = []\n",
    "\n",
    "print('*** Result Comparisons ***')\n",
    "print('Target\\tMEGNet\\tQM9')\n",
    "\n",
    "for i in names:\n",
    "    model = MEGNetModel.from_file('../mvl_models/qm9-2018.6.1/' + i+'.hdf5')\n",
    "    pred = model.predict_graph(graph)\n",
    "    y_pred.append(pred)\n",
    "    y_true.append(doc['mol_info'][i])\n",
    "    print('%s\\t%.3f\\t%.3f' %(i, y_pred[-1], float(y_true[-1])))\n"
   ]
  },
  {
   "cell_type": "markdown",
   "metadata": {},
   "source": [
    "### Predict from SMILES"
   ]
  },
  {
   "cell_type": "code",
   "execution_count": 3,
   "metadata": {},
   "outputs": [],
   "source": [
    "from megnet.utils.molecule import get_pmg_mol_from_smiles\n",
    "\n",
    "MODEL_NAME = 'HOMO'\n",
    "\n",
    "model = MEGNetModel.from_file('../mvl_models/qm9-2018.6.1/%s.hdf5' % MODEL_NAME)"
   ]
  },
  {
   "cell_type": "code",
   "execution_count": 4,
   "metadata": {},
   "outputs": [
    {
     "data": {
      "text/plain": [
       "array([-10.557696], dtype=float32)"
      ]
     },
     "execution_count": 4,
     "metadata": {},
     "output_type": "execute_result"
    }
   ],
   "source": [
    "# The smiles of qm9:000001 is just C\n",
    "mol1 = get_pmg_mol_from_smiles('C')\n",
    "model.predict_structure(mol1)"
   ]
  },
  {
   "cell_type": "markdown",
   "metadata": {},
   "source": [
    "The result matches with previous results when we compute it from pre-computed graph"
   ]
  }
 ],
 "metadata": {
  "kernelspec": {
   "display_name": "Python 3",
   "language": "python",
   "name": "python3"
  },
  "language_info": {
   "codemirror_mode": {
    "name": "ipython",
    "version": 3
   },
   "file_extension": ".py",
   "mimetype": "text/x-python",
   "name": "python",
   "nbconvert_exporter": "python",
   "pygments_lexer": "ipython3",
   "version": "3.10.9"
  }
 },
 "nbformat": 4,
 "nbformat_minor": 2
}
